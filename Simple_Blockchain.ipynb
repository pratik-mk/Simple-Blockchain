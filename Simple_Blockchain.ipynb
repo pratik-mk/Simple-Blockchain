{
  "nbformat": 4,
  "nbformat_minor": 0,
  "metadata": {
    "colab": {
      "name": "Simple Blockchain.ipynb",
      "version": "0.3.2",
      "provenance": [],
      "collapsed_sections": [],
      "include_colab_link": true
    },
    "kernelspec": {
      "name": "python3",
      "display_name": "Python 3"
    }
  },
  "cells": [
    {
      "cell_type": "markdown",
      "metadata": {
        "id": "view-in-github",
        "colab_type": "text"
      },
      "source": [
        "<a href=\"https://colab.research.google.com/github/pratik-mk/Simple-Blockchain/blob/master/Simple_Blockchain.ipynb\" target=\"_parent\"><img src=\"https://colab.research.google.com/assets/colab-badge.svg\" alt=\"Open In Colab\"/></a>"
      ]
    },
    {
      "cell_type": "markdown",
      "metadata": {
        "id": "LrTBiZYJGHxo",
        "colab_type": "text"
      },
      "source": [
        "# What Is Block?\n",
        "![alt text](https://camo.githubusercontent.com/171dd092941a095151972010be762c976ad9422d/68747470733a2f2f692e696d6775722e636f6d2f36416c696d4b382e706e67)\n",
        "\n",
        "# What is Blockchain ?\n",
        "![alt text](https://camo.githubusercontent.com/22963b79ac0ef069188d2e23ccb7a4400c3a44cc/68747470733a2f2f63646e2d696d616765732d312e6d656469756d2e636f6d2f6d61782f313630302f312a7062794648345535734f3237554531456a6e496d6f412e706e67)\n",
        "\n",
        "\n",
        "\n",
        "**4 Step Process!**\n",
        "\n",
        "1.   Import dependencies\n",
        "2.   Create a block\n",
        "3.   Create a blockchain\n",
        "4.   Print out the blockchain \n",
        "\n",
        "\n",
        "    \n",
        "    \n",
        "   \n",
        "\n",
        "\n",
        "\n",
        "\n"
      ]
    },
    {
      "cell_type": "markdown",
      "metadata": {
        "id": "MvNTiGE-FpFu",
        "colab_type": "text"
      },
      "source": [
        "# Import Dependecies\n"
      ]
    },
    {
      "cell_type": "code",
      "metadata": {
        "id": "4mcjYl3mEwaZ",
        "colab_type": "code",
        "colab": {}
      },
      "source": [
        "#generates timestamps\n",
        "import datetime\n",
        "#contains hashing algorithms\n",
        "import hashlib"
      ],
      "execution_count": 0,
      "outputs": []
    },
    {
      "cell_type": "markdown",
      "metadata": {
        "id": "SOG4tSkUFxtX",
        "colab_type": "text"
      },
      "source": [
        "# Create a Block"
      ]
    },
    {
      "cell_type": "code",
      "metadata": {
        "id": "p-zbQT_UFIAR",
        "colab_type": "code",
        "colab": {}
      },
      "source": [
        "#defining the 'block' data structure\n",
        "class Block:\n",
        "    #each block has 7 attributes \n",
        "  \n",
        "    #1 number of the block\n",
        "    blockNo = 0\n",
        "    #2 what data is stored in this block?\n",
        "    data = None\n",
        "    #3 pointer to the next block\n",
        "    next = None\n",
        "    #4 The hash of this block (serves as a unique ID and verifies its integrity)\n",
        "    #A hash is a function that converts data into a number within a certain range. \n",
        "    hash = None\n",
        "    #5 A nonce is a number only used once  \n",
        "    nonce = 0\n",
        "    #6 store the hash (ID) of the previous block in the chain\n",
        "    previous_hash = 0x0\n",
        "    #7 timestamp \n",
        "    timestamp = datetime.datetime.now()\n",
        "\n",
        "    #We initialize a block by storing some data in it\n",
        "    def __init__(self, data):\n",
        "        self.data = data\n",
        "\n",
        "    #Function to compute 'hash' of a block\n",
        "    #a hash acts as both a unique identifier\n",
        "    #& verifies its integrity\n",
        "    #if someone changes the hash of a block\n",
        "    #every block that comes after it is changed \n",
        "    #this helps make a blockchain immutable\n",
        "    def hash(self):\n",
        "        #SHA-256 is a hashing algorithm that\n",
        "        # generates an almost-unique 256-bit signature that represents\n",
        "        # some piece of text\n",
        "        h = hashlib.sha256()\n",
        "        #the input to the SHA-256 algorithm\n",
        "        #will be a concatenated string\n",
        "        #consisting of 5 block attributes\n",
        "        #the nonce, data, previous hash, timestamp, & block #\n",
        "        h.update(\n",
        "        str(self.nonce).encode('utf-8') +\n",
        "        str(self.data).encode('utf-8') +\n",
        "        str(self.previous_hash).encode('utf-8') +\n",
        "        str(self.timestamp).encode('utf-8') +\n",
        "        str(self.blockNo).encode('utf-8')\n",
        "        )\n",
        "        #returns a hexademical string\n",
        "        return h.hexdigest()\n",
        "      \n",
        "        ## SHOW DEMO 2, change data \n",
        "\n",
        "    def __str__(self):\n",
        "        #print out the value of a block\n",
        "        return \"Block Hash: \" + str(self.hash()) + \"\\nBlockNo: \" + str(self.blockNo) + \"\\nBlock Data: \" + str(self.data) + \"\\nHashes: \" + str(self.nonce) + \"\\n--------------\""
      ],
      "execution_count": 0,
      "outputs": []
    },
    {
      "cell_type": "markdown",
      "metadata": {
        "id": "jt5NMkFwF3cq",
        "colab_type": "text"
      },
      "source": [
        "# Create a Blockchain"
      ]
    },
    {
      "cell_type": "code",
      "metadata": {
        "id": "h1z6XtuOFNLw",
        "colab_type": "code",
        "colab": {}
      },
      "source": [
        "#defining the blockchain datastructure\n",
        "#consists of 'blocks' linked together\n",
        "#to form a 'chain'. Thats why its called\n",
        "#'blockchain'\n",
        "class Blockchain:\n",
        "    \n",
        "    #mining difficulty\n",
        "    diff = 20\n",
        "    #2^32. This is the maximum number\n",
        "    #we can store in a 32-bit number\n",
        "    maxNonce = 2**32\n",
        "    #target hash, for mining\n",
        "    target = 2 ** (256-diff)\n",
        "\n",
        "    #generates the first block in the blockchain\n",
        "    #this is called the 'genesis block'\n",
        "    block = Block(\"Genesis\")\n",
        "    #sets it as the head of our blockchain\n",
        "    head = block\n",
        "\n",
        "    #adds a given block to the chain of blocks\n",
        "    #the block to be added is the only parameter\n",
        "    def add(self, block):\n",
        "        \n",
        "        #set the hash of a given block\n",
        "        #as our new block's previous hash\n",
        "        block.previous_hash = self.block.hash()\n",
        "        #set the block # of our new block\n",
        "        #as the given block's # + 1, since\n",
        "        #its next in the chain\n",
        "        block.blockNo = self.block.blockNo + 1\n",
        "\n",
        "        #set the next block equal to \n",
        "        #itself. This is the new head \n",
        "        #of the blockchain\n",
        "        self.block.next = block\n",
        "        self.block = self.block.next\n",
        "\n",
        "    #Determines whether or not we can add a given block to\n",
        "    #the blockchain\n",
        "    def mine(self, block):\n",
        "        #from 0 to 2^32 \n",
        "        for n in range(self.maxNonce):\n",
        "            #is the value of the given block's hash less than our target value?\n",
        "            if int(block.hash(), 16) <= self.target:\n",
        "                #if it is,\n",
        "                #add the block to the chain\n",
        "                self.add(block)\n",
        "                print(block)\n",
        "                break\n",
        "            else:\n",
        "                block.nonce += 1\n",
        "   \n",
        "    ## Show demo 3 ! Mine a block"
      ],
      "execution_count": 0,
      "outputs": []
    },
    {
      "cell_type": "markdown",
      "metadata": {
        "id": "p-yCHCY5F8TA",
        "colab_type": "text"
      },
      "source": [
        "# Print the blockchain"
      ]
    },
    {
      "cell_type": "code",
      "metadata": {
        "id": "F56uzhhwFRlo",
        "colab_type": "code",
        "outputId": "7113f9f3-c9db-4036-a9af-47ad2d590306",
        "colab": {
          "base_uri": "https://localhost:8080/",
          "height": 1000
        }
      },
      "source": [
        "#initialize blockchain\n",
        "blockchain = Blockchain()\n",
        "\n",
        "#mine 10 blocks\n",
        "for n in range(10):\n",
        "    blockchain.mine(Block(\"Block \" + str(n+1)))\n",
        "    \n",
        "#print out each block in the blockchain\n",
        "while blockchain.head != None:\n",
        "    print(blockchain.head)\n",
        "    blockchain.head = blockchain.head.next"
      ],
      "execution_count": 0,
      "outputs": [
        {
          "output_type": "stream",
          "text": [
            "Block Hash: 025e384ba00f1668ec48f93cd31bfc367c7f749aa4d2aa68d7f10b9626bee4b3\n",
            "BlockNo: 1\n",
            "Block Data: Block 1\n",
            "Hashes: 506968\n",
            "--------------\n",
            "Block Hash: 96c305d18ba99d1444a7ba37ac2f3d2f338e93d8d0adc1b2b975622f3a2c639a\n",
            "BlockNo: 2\n",
            "Block Data: Block 2\n",
            "Hashes: 770696\n",
            "--------------\n",
            "Block Hash: c9cb34febaa2a2fd0b535fbce889a000470047d480180d400c1d2b62d5095084\n",
            "BlockNo: 3\n",
            "Block Data: Block 3\n",
            "Hashes: 1574487\n",
            "--------------\n",
            "Block Hash: df015e0701be76b19cb2ca53024be48de9ade6314f7925398c82dd4bf137645d\n",
            "BlockNo: 4\n",
            "Block Data: Block 4\n",
            "Hashes: 905012\n",
            "--------------\n",
            "Block Hash: ca47f7a6c7382115a960348be89b7d663cbe2ee8e011dd700e1a3f417a7687a9\n",
            "BlockNo: 5\n",
            "Block Data: Block 5\n",
            "Hashes: 751758\n",
            "--------------\n",
            "Block Hash: 6d4e6c446d7b039d4beace0f3916720ba44fb2bdc86655e48e24b76c9b834583\n",
            "BlockNo: 6\n",
            "Block Data: Block 6\n",
            "Hashes: 1674219\n",
            "--------------\n",
            "Block Hash: a412e460831cf8e5600e666b568e7effde75e017f88838a60a0a5263f8f0b478\n",
            "BlockNo: 7\n",
            "Block Data: Block 7\n",
            "Hashes: 1785148\n",
            "--------------\n",
            "Block Hash: 1aeb91d6647a298362fcfdf35c9cca27585344e701417b94a2e0ac5c99923fff\n",
            "BlockNo: 8\n",
            "Block Data: Block 8\n",
            "Hashes: 1357524\n",
            "--------------\n",
            "Block Hash: 629fc31c0b7a52a97344f63c3782bf925026769a4c0b80c8578911cd077dae99\n",
            "BlockNo: 9\n",
            "Block Data: Block 9\n",
            "Hashes: 679052\n",
            "--------------\n",
            "Block Hash: 281b721520d97f8cc71bafa3eef9ba3a1c5b32535c4f19c5a65695f44e2b2659\n",
            "BlockNo: 10\n",
            "Block Data: Block 10\n",
            "Hashes: 998175\n",
            "--------------\n",
            "Block Hash: cda0ec73b864048f51bb7a59f80386c7ca15699f22688c35d882c15f82621da0\n",
            "BlockNo: 0\n",
            "Block Data: Genesis\n",
            "Hashes: 0\n",
            "--------------\n",
            "Block Hash: 025e384ba00f1668ec48f93cd31bfc367c7f749aa4d2aa68d7f10b9626bee4b3\n",
            "BlockNo: 1\n",
            "Block Data: Block 1\n",
            "Hashes: 506968\n",
            "--------------\n",
            "Block Hash: 96c305d18ba99d1444a7ba37ac2f3d2f338e93d8d0adc1b2b975622f3a2c639a\n",
            "BlockNo: 2\n",
            "Block Data: Block 2\n",
            "Hashes: 770696\n",
            "--------------\n",
            "Block Hash: c9cb34febaa2a2fd0b535fbce889a000470047d480180d400c1d2b62d5095084\n",
            "BlockNo: 3\n",
            "Block Data: Block 3\n",
            "Hashes: 1574487\n",
            "--------------\n",
            "Block Hash: df015e0701be76b19cb2ca53024be48de9ade6314f7925398c82dd4bf137645d\n",
            "BlockNo: 4\n",
            "Block Data: Block 4\n",
            "Hashes: 905012\n",
            "--------------\n",
            "Block Hash: ca47f7a6c7382115a960348be89b7d663cbe2ee8e011dd700e1a3f417a7687a9\n",
            "BlockNo: 5\n",
            "Block Data: Block 5\n",
            "Hashes: 751758\n",
            "--------------\n",
            "Block Hash: 6d4e6c446d7b039d4beace0f3916720ba44fb2bdc86655e48e24b76c9b834583\n",
            "BlockNo: 6\n",
            "Block Data: Block 6\n",
            "Hashes: 1674219\n",
            "--------------\n",
            "Block Hash: a412e460831cf8e5600e666b568e7effde75e017f88838a60a0a5263f8f0b478\n",
            "BlockNo: 7\n",
            "Block Data: Block 7\n",
            "Hashes: 1785148\n",
            "--------------\n",
            "Block Hash: 1aeb91d6647a298362fcfdf35c9cca27585344e701417b94a2e0ac5c99923fff\n",
            "BlockNo: 8\n",
            "Block Data: Block 8\n",
            "Hashes: 1357524\n",
            "--------------\n",
            "Block Hash: 629fc31c0b7a52a97344f63c3782bf925026769a4c0b80c8578911cd077dae99\n",
            "BlockNo: 9\n",
            "Block Data: Block 9\n",
            "Hashes: 679052\n",
            "--------------\n",
            "Block Hash: 281b721520d97f8cc71bafa3eef9ba3a1c5b32535c4f19c5a65695f44e2b2659\n",
            "BlockNo: 10\n",
            "Block Data: Block 10\n",
            "Hashes: 998175\n",
            "--------------\n"
          ],
          "name": "stdout"
        }
      ]
    }
  ]
}